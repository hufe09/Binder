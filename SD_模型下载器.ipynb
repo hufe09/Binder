{
  "nbformat": 4,
  "nbformat_minor": 0,
  "metadata": {
    "colab": {
      "provenance": [],
      "authorship_tag": "ABX9TyOL45Iq78qL2iTl1uX3wy4f",
      "include_colab_link": true
    },
    "kernelspec": {
      "name": "python3",
      "display_name": "Python 3"
    },
    "language_info": {
      "name": "python"
    }
  },
  "cells": [
    {
      "cell_type": "markdown",
      "metadata": {
        "id": "view-in-github",
        "colab_type": "text"
      },
      "source": [
        "<a href=\"https://colab.research.google.com/github/metafeng/Binder/blob/master/SD_%E6%A8%A1%E5%9E%8B%E4%B8%8B%E8%BD%BD%E5%99%A8.ipynb\" target=\"_parent\"><img src=\"https://colab.research.google.com/assets/colab-badge.svg\" alt=\"Open In Colab\"/></a>"
      ]
    },
    {
      "cell_type": "markdown",
      "source": [
        "关于Colab中aria2c下载用法的信息。😊\n",
        "\n",
        "aria2c是一个命令行下载工具，它支持多种协议和多源下载，可以提高下载速度和效率。在Colab中，您可以使用以下步骤来使用aria2c：\n",
        "\n",
        "1. 安装aria2c。在Colab的代码单元格中，输入`!apt install aria2`并运行，等待安装完成。\n",
        "2. 下载文件。在Colab的代码单元格中，输入`!aria2c [options] [url]`并运行，其中[options]是可选的参数，[url]是要下载的文件的链接。例如，如果您想用两个连接从一个网站下载一个文件，您可以输入`!aria2c -x2 http://host/image.iso`。\n",
        "3. 查看文件。在Colab的代码单元格中，输入`!ls`并运行，可以查看当前目录下的文件列表。您也可以使用其他Linux命令来操作文件，例如`!mv`移动文件，`!rm`删除文件等。\n",
        "\n",
        "如果您想了解更多关于aria2c的用法和参数，您可以参考以下网页：\n",
        "\n",
        "源: 与必应的对话， 2023/10/9\n",
        "\n",
        "(1) Aria2 安装和使用全教程-CSDN博客. https://blog.csdn.net/qq_55058006/article/details/115570993.\n",
        "\n",
        "(2) aria2（命令行下载器）使用 - 简书. https://www.jianshu.com/p/6e6a02e1f15e.\n",
        "\n",
        "(3) Aria2c 使用举例_aria2c -x-CSDN博客. https://bing.com/search?q=Colab+%e4%b8%adaria2c+%e4%b8%8b%e8%bd%bd%e7%94%a8%e6%b3%95.\n",
        "\n",
        "\n",
        "(4) Aria2c 使用举例_aria2c -x-CSDN博客. https://blog.csdn.net/hjwang1/article/details/44408633.\n",
        "\n",
        "(5) linux 多线程下载工具-aria2c - 知乎 - 知乎专栏. https://zhuanlan.zhihu.com/p/637294044.\n",
        "\n",
        "\n",
        "(6) aria2(aria2c)安装使用指南_aria2 windows_和田雅成的呆毛的博客-CSDN博客. https://blog.csdn.net/Eternityrx/article/details/128979602.\n",
        "\n",
        "(7) undefined. http://aria2c.com/.\n",
        "\n",
        "(8) undefined. https://download.owncloud.org/community/owncloud-9.0.0.tar.bz2.\n",
        "\n",
        "(9) undefined. ftp://ftp.gnu.org/gnu/wget/wget-1.17.tar.gz.\n"
      ],
      "metadata": {
        "id": "JFMrkFz64YCk"
      }
    },
    {
      "cell_type": "markdown",
      "source": [
        "# SD 模型下载器\n"
      ],
      "metadata": {
        "id": "qjuhNPDq3_tx"
      }
    },
    {
      "cell_type": "code",
      "source": [
        "# 使用apt命令安装aria2下载工具\n",
        "!apt install aria2\n",
        "\n",
        "# 导入google.colab库的drive模块，用于在Google Colab环境中挂载Google Drive\n",
        "from google.colab import drive\n",
        "# 挂载Google Drive到'/content/drive'路径\n",
        "drive.mount('/content/drive')\n",
        "\n",
        "# 定义一个名为downloadModel的函数，该函数接受一个名为url的参数\n",
        "def downloadModel(url):\n",
        "  # 检查url中是否包含'huggingface.co'\n",
        "  if 'huggingface.co' in url:\n",
        "    # 从url中获取文件名\n",
        "    filename = url.split('/')[-1]\n",
        "    # 使用aria2c工具下载文件，指定参数并设置输出文件名\n",
        "    !aria2c --console-log-level=error -c -x 16 -s 16 -k 1M {url}  -o {filename}\n",
        "  else:\n",
        "    # 如果url中不包含'huggingface.co'，则假定为civitai的链接，并使用aria2c工具下载文件\n",
        "    !aria2c --console-log-level=error -c -x 16 -s 16 -k 1M {url}\n",
        "\n",
        "# 定义一个名为download_models的函数，该函数接受两个参数：url和types，其中types的默认值为\"models\"\n",
        "def download_models(url, types=\"models\"):\n",
        "  # 检查types参数是否为'lora'\n",
        "  if types == 'lora':\n",
        "    # 如果是'lora'，则切换当前目录到'/content/drive/MyDrive/AI_PICS/Lora'\n",
        "    %cd /content/drive/MyDrive/AI_PICS/Lora\n",
        "  else:\n",
        "    # 如果不是'lora'，则切换当前目录到'/content/drive/MyDrive/AI_PICS/models'\n",
        "    %cd /content/drive/MyDrive/AI_PICS/models\n",
        "  # 输出下载模型的进度提示\n",
        "  print('⏳ Downloading models ...')\n",
        "  # 调用downloadModel函数，传入url参数，开始下载模型\n",
        "  downloadModel(url)"
      ],
      "metadata": {
        "colab": {
          "base_uri": "https://localhost:8080/"
        },
        "id": "1nDmbumY3oi1",
        "outputId": "0157226f-3bf2-4ad0-9c91-b685d923ac02"
      },
      "execution_count": null,
      "outputs": [
        {
          "output_type": "stream",
          "name": "stdout",
          "text": [
            "Reading package lists... Done\n",
            "Building dependency tree... Done\n",
            "Reading state information... Done\n",
            "The following additional packages will be installed:\n",
            "  libaria2-0 libc-ares2\n",
            "The following NEW packages will be installed:\n",
            "  aria2 libaria2-0 libc-ares2\n",
            "0 upgraded, 3 newly installed, 0 to remove and 18 not upgraded.\n",
            "Need to get 1,513 kB of archives.\n",
            "After this operation, 5,441 kB of additional disk space will be used.\n",
            "Get:1 http://archive.ubuntu.com/ubuntu jammy-updates/main amd64 libc-ares2 amd64 1.18.1-1ubuntu0.22.04.2 [45.0 kB]\n",
            "Get:2 http://archive.ubuntu.com/ubuntu jammy/universe amd64 libaria2-0 amd64 1.36.0-1 [1,086 kB]\n",
            "Get:3 http://archive.ubuntu.com/ubuntu jammy/universe amd64 aria2 amd64 1.36.0-1 [381 kB]\n",
            "Fetched 1,513 kB in 1s (1,976 kB/s)\n",
            "Selecting previously unselected package libc-ares2:amd64.\n",
            "(Reading database ... 120875 files and directories currently installed.)\n",
            "Preparing to unpack .../libc-ares2_1.18.1-1ubuntu0.22.04.2_amd64.deb ...\n",
            "Unpacking libc-ares2:amd64 (1.18.1-1ubuntu0.22.04.2) ...\n",
            "Selecting previously unselected package libaria2-0:amd64.\n",
            "Preparing to unpack .../libaria2-0_1.36.0-1_amd64.deb ...\n",
            "Unpacking libaria2-0:amd64 (1.36.0-1) ...\n",
            "Selecting previously unselected package aria2.\n",
            "Preparing to unpack .../aria2_1.36.0-1_amd64.deb ...\n",
            "Unpacking aria2 (1.36.0-1) ...\n",
            "Setting up libc-ares2:amd64 (1.18.1-1ubuntu0.22.04.2) ...\n",
            "Setting up libaria2-0:amd64 (1.36.0-1) ...\n",
            "Setting up aria2 (1.36.0-1) ...\n",
            "Processing triggers for man-db (2.10.2-1) ...\n",
            "Processing triggers for libc-bin (2.35-0ubuntu3.1) ...\n",
            "/sbin/ldconfig.real: /usr/local/lib/libtbbbind_2_5.so.3 is not a symbolic link\n",
            "\n",
            "/sbin/ldconfig.real: /usr/local/lib/libtbb.so.12 is not a symbolic link\n",
            "\n",
            "/sbin/ldconfig.real: /usr/local/lib/libtbbbind_2_0.so.3 is not a symbolic link\n",
            "\n",
            "/sbin/ldconfig.real: /usr/local/lib/libtbbmalloc_proxy.so.2 is not a symbolic link\n",
            "\n",
            "/sbin/ldconfig.real: /usr/local/lib/libtbbmalloc.so.2 is not a symbolic link\n",
            "\n",
            "/sbin/ldconfig.real: /usr/local/lib/libtbbbind.so.3 is not a symbolic link\n",
            "\n",
            "Mounted at /content/drive\n"
          ]
        }
      ]
    },
    {
      "cell_type": "code",
      "source": [
        "url = 'https://civitai.com/api/download/models/171904'\n",
        "download_models(url,'lora')"
      ],
      "metadata": {
        "colab": {
          "base_uri": "https://localhost:8080/"
        },
        "id": "uajEAXkP5AK2",
        "outputId": "802c6af3-9410-4a74-f684-64fd5754dd8c"
      },
      "execution_count": null,
      "outputs": [
        {
          "output_type": "stream",
          "name": "stdout",
          "text": [
            "/content/drive/MyDrive/AI_PICS/Lora\n",
            "⏳ Downloading models ...\n",
            "\u001b[0m\n",
            "Download Results:\n",
            "gid   |stat|avg speed  |path/URI\n",
            "======+====+===========+=======================================================\n",
            "559b74|\u001b[1;32mOK\u001b[0m  |    76MiB/s|/content/drive/MyDrive/AI_PICS/Lora/FF-LLama-Generator-lora.safetensors\n",
            "\n",
            "Status Legend:\n",
            "(OK):download completed.\n"
          ]
        }
      ]
    },
    {
      "cell_type": "code",
      "source": [],
      "metadata": {
        "id": "xrZA9AKE5zeN"
      },
      "execution_count": null,
      "outputs": []
    },
    {
      "cell_type": "markdown",
      "source": [],
      "metadata": {
        "id": "ZORY6Lp98Rc3"
      }
    },
    {
      "cell_type": "code",
      "source": [],
      "metadata": {
        "id": "0eYDxfJy8cU2"
      },
      "execution_count": null,
      "outputs": []
    }
  ]
}