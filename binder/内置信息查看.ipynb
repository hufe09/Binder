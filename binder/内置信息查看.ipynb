{
 "cells": [
  {
   "cell_type": "code",
   "execution_count": 2,
   "metadata": {},
   "outputs": [
    {
     "name": "stdout",
     "output_type": "stream",
     "text": [
      "Currently running servers:\r\n",
      "http://0.0.0.0:8888/user/hufe09-data_analysis-1yhqtm4j/?token=23PswrT3SISkVQss9O-ROg :: /home/jovyan\r\n"
     ]
    }
   ],
   "source": [
    "!jupyter notebook list"
   ]
  },
  {
   "cell_type": "code",
   "execution_count": 3,
   "metadata": {},
   "outputs": [
    {
     "name": "stdout",
     "output_type": "stream",
     "text": [
      "Package                       Version \n",
      "----------------------------- --------\n",
      "alabaster                     0.7.12  \n",
      "alembic                       1.0.9   \n",
      "async-generator               1.10    \n",
      "attrs                         19.1.0  \n",
      "Babel                         2.6.0   \n",
      "backcall                      0.1.0   \n",
      "bleach                        3.1.0   \n",
      "certifi                       2019.3.9\n",
      "chardet                       3.0.4   \n",
      "cycler                        0.10.0  \n",
      "decorator                     4.4.0   \n",
      "defusedxml                    0.5.0   \n",
      "docutils                      0.14    \n",
      "entrypoints                   0.3     \n",
      "idna                          2.8     \n",
      "imagesize                     1.1.0   \n",
      "ipykernel                     5.1.0   \n",
      "ipython                       7.5.0   \n",
      "ipython-genutils              0.2.0   \n",
      "ipywidgets                    7.4.2   \n",
      "jedi                          0.13.3  \n",
      "Jinja2                        2.10.1  \n",
      "joblib                        0.13.2  \n",
      "jsonschema                    3.0.1   \n",
      "jupyter-client                5.2.4   \n",
      "jupyter-core                  4.4.0   \n",
      "jupyterhub                    0.9.4   \n",
      "jupyterlab                    0.35.4  \n",
      "jupyterlab-server             0.2.0   \n",
      "kiwisolver                    1.1.0   \n",
      "Mako                          1.0.9   \n",
      "MarkupSafe                    1.1.1   \n",
      "matplotlib                    3.1.0   \n",
      "mistune                       0.8.4   \n",
      "nbconvert                     5.4.1   \n",
      "nbformat                      4.4.0   \n",
      "nbgitpuller                   0.6.1   \n",
      "notebook                      5.7.8   \n",
      "nteract-on-jupyter            2.0.12  \n",
      "numpy                         1.16.3  \n",
      "packaging                     19.0    \n",
      "pamela                        1.0.0   \n",
      "pandas                        0.24.2  \n",
      "pandocfilters                 1.4.2   \n",
      "parso                         0.4.0   \n",
      "pexpect                       4.7.0   \n",
      "pickleshare                   0.7.5   \n",
      "Pillow                        6.0.0   \n",
      "pip                           19.1    \n",
      "prometheus-client             0.6.0   \n",
      "prompt-toolkit                2.0.9   \n",
      "ptyprocess                    0.6.0   \n",
      "Pygments                      2.3.1   \n",
      "pyparsing                     2.4.0   \n",
      "pyrsistent                    0.15.1  \n",
      "python-dateutil               2.8.0   \n",
      "python-editor                 1.0.4   \n",
      "python-oauth2                 1.1.0   \n",
      "pytz                          2019.1  \n",
      "pyzmq                         18.0.1  \n",
      "requests                      2.21.0  \n",
      "scikit-learn                  0.21.1  \n",
      "scipy                         1.3.0   \n",
      "Send2Trash                    1.5.0   \n",
      "setuptools                    41.0.1  \n",
      "six                           1.12.0  \n",
      "sklearn                       0.0     \n",
      "snowballstemmer               1.2.1   \n",
      "Sphinx                        2.0.1   \n",
      "sphinx-gallery                0.3.1   \n",
      "sphinxcontrib-applehelp       1.0.1   \n",
      "sphinxcontrib-devhelp         1.0.1   \n",
      "sphinxcontrib-htmlhelp        1.0.2   \n",
      "sphinxcontrib-jsmath          1.0.1   \n",
      "sphinxcontrib-qthelp          1.0.2   \n",
      "sphinxcontrib-serializinghtml 1.1.3   \n",
      "SQLAlchemy                    1.3.3   \n",
      "terminado                     0.8.2   \n",
      "testpath                      0.4.2   \n",
      "tornado                       6.0.2   \n",
      "traitlets                     4.3.2   \n",
      "urllib3                       1.24.2  \n",
      "wcwidth                       0.1.7   \n",
      "webencodings                  0.5.1   \n",
      "wheel                         0.33.1  \n",
      "widgetsnbextension            3.4.2   \n",
      "Note: you may need to restart the kernel to use updated packages.\n"
     ]
    }
   ],
   "source": [
    "pip list"
   ]
  },
  {
   "cell_type": "code",
   "execution_count": 4,
   "metadata": {},
   "outputs": [
    {
     "name": "stdout",
     "output_type": "stream",
     "text": [
      "Linux version 4.14.91+ (chrome-bot@swarm-cros-807) (gcc version 4.9.x 20150123 (prerelease) (4.9.2_cos_gg_4.9.2-r193-ac6128e0a17a52f011797f33ac3e7d6273a9368d_4.9.2-r193)) #1 SMP Wed Jan 23 21:34:58 PST 2019\r\n"
     ]
    }
   ],
   "source": [
    "cat /proc/version"
   ]
  },
  {
   "cell_type": "code",
   "execution_count": 6,
   "metadata": {
    "scrolled": true
   },
   "outputs": [
    {
     "name": "stdout",
     "output_type": "stream",
     "text": [
      "Linux jupyter-hufe09-2ddata-5fanalysis-2d1yhqtm4j 4.14.91+ #1 SMP Wed Jan 23 21:34:58 PST 2019 x86_64 x86_64 x86_64 GNU/Linux\r\n"
     ]
    }
   ],
   "source": [
    "!uname -a"
   ]
  },
  {
   "cell_type": "code",
   "execution_count": 7,
   "metadata": {},
   "outputs": [
    {
     "name": "stdout",
     "output_type": "stream",
     "text": [
      "/bin/sh: 1: lsb_release: not found\r\n"
     ]
    }
   ],
   "source": [
    "!lsb_release -a"
   ]
  }
 ],
 "metadata": {
  "kernelspec": {
   "display_name": "Python 3",
   "language": "python",
   "name": "python3"
  },
  "language_info": {
   "codemirror_mode": {
    "name": "ipython",
    "version": 3
   },
   "file_extension": ".py",
   "mimetype": "text/x-python",
   "name": "python",
   "nbconvert_exporter": "python",
   "pygments_lexer": "ipython3",
   "version": "3.7.3"
  }
 },
 "nbformat": 4,
 "nbformat_minor": 2
}
